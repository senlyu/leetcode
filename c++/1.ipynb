{
 "cells": [
  {
   "cell_type": "code",
   "execution_count": null,
   "id": "unsigned-multiple",
   "metadata": {},
   "outputs": [],
   "source": []
  },
  {
   "cell_type": "markdown",
   "id": "rolled-veteran",
   "metadata": {},
   "source": [
    "Given an array of integers nums and an integer target, return indices of the two numbers such that they add up to target.\n",
    "\n",
    "You may assume that each input would have exactly one solution, and you may not use the same element twice.\n",
    "\n",
    "You can return the answer in any order.\n",
    "\n",
    " \n",
    "\n",
    "Example 1:\n",
    "\n",
    "Input: nums = [2,7,11,15], target = 9\n",
    "Output: [0,1]\n",
    "Output: Because nums[0] + nums[1] == 9, we return [0, 1].\n",
    "Example 2:\n",
    "\n",
    "Input: nums = [3,2,4], target = 6\n",
    "Output: [1,2]\n",
    "Example 3:\n",
    "\n",
    "Input: nums = [3,3], target = 6\n",
    "Output: [0,1]\n",
    " \n",
    "\n",
    "Constraints:\n",
    "\n",
    "2 <= nums.length <= 103\n",
    "-109 <= nums[i] <= 109\n",
    "-109 <= target <= 109\n",
    "Only one valid answer exists."
   ]
  },
  {
   "cell_type": "code",
   "execution_count": 1,
   "id": "norman-henry",
   "metadata": {
    "scrolled": false
   },
   "outputs": [
    {
     "name": "stdout",
     "output_type": "stream",
     "text": [
      "1\n",
      "5\n",
      "6\n",
      "end--\n",
      "5\n",
      "end--\n",
      "4\n",
      "end--\n",
      "1\n",
      "2\n"
     ]
    }
   ],
   "source": [
    "#include <iostream>\n",
    "#include <algorithm>\n",
    "\n",
    "#include <vector>\n",
    "using std::vector;\n",
    "\n",
    "class Solution {\n",
    "  public:\n",
    "    vector<int> twoSum(vector<int>& nums, int target) {\n",
    "        std::sort(nums.begin(), nums.end());\n",
    "        vector<int>::iterator front = nums.begin();\n",
    "        vector<int>::iterator end = nums.end();\n",
    "        end--;\n",
    "        std::cout << (*front) << std::endl;\n",
    "        std::cout << (*end) << std::endl;\n",
    "        while ( (*front + *end) != target ) {\n",
    "            std::cout << (*front + *end) << std::endl;\n",
    "            if ( (*front + *end) < target ) {\n",
    "                front++;\n",
    "                std::cout << \"front++\" << std::endl;\n",
    "            } else if ( (*front + *end) > target ) {\n",
    "                end--;\n",
    "                std::cout << \"end--\" << std::endl;\n",
    "            }\n",
    "        }\n",
    "        return vector<int>{*front,*end};\n",
    "    }\n",
    "};\n",
    "\n",
    "vector<int> nums = {1,5,2,4,3};\n",
    "int target = 3;\n",
    "vector<int> result = Solution().twoSum(nums, target);\n",
    "for (auto it = result.begin(); it != result.end(); ++it) {\n",
    "    std::cout << *(it) << std::endl;\n",
    "}\n"
   ]
  },
  {
   "cell_type": "code",
   "execution_count": null,
   "id": "democratic-experience",
   "metadata": {},
   "outputs": [],
   "source": []
  },
  {
   "cell_type": "code",
   "execution_count": null,
   "id": "suburban-stand",
   "metadata": {},
   "outputs": [],
   "source": []
  }
 ],
 "metadata": {
  "kernelspec": {
   "display_name": "C++17",
   "language": "C++17",
   "name": "xcpp17"
  },
  "language_info": {
   "codemirror_mode": "text/x-c++src",
   "file_extension": ".cpp",
   "mimetype": "text/x-c++src",
   "name": "c++",
   "version": "17"
  }
 },
 "nbformat": 4,
 "nbformat_minor": 5
}
